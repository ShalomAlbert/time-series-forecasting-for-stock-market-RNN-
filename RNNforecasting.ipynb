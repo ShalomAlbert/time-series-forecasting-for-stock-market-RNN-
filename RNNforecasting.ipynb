{
 "cells": [
  {
   "cell_type": "code",
   "execution_count": 1,
   "id": "733f5c8d",
   "metadata": {},
   "outputs": [],
   "source": [
    "import pandas as pd\n",
    "import numpy as np\n",
    "import keras\n",
    "import tensorflow as tf\n",
    "from keras.preprocessing.sequence import TimeseriesGenerator\n",
    "import matplotlib.pyplot as plt\n",
    "import plotly.graph_objs as go\n"
   ]
  },
  {
   "cell_type": "code",
   "execution_count": 2,
   "id": "6900b327",
   "metadata": {},
   "outputs": [
    {
     "data": {
      "text/html": [
       "<div>\n",
       "<style scoped>\n",
       "    .dataframe tbody tr th:only-of-type {\n",
       "        vertical-align: middle;\n",
       "    }\n",
       "\n",
       "    .dataframe tbody tr th {\n",
       "        vertical-align: top;\n",
       "    }\n",
       "\n",
       "    .dataframe thead th {\n",
       "        text-align: right;\n",
       "    }\n",
       "</style>\n",
       "<table border=\"1\" class=\"dataframe\">\n",
       "  <thead>\n",
       "    <tr style=\"text-align: right;\">\n",
       "      <th></th>\n",
       "      <th>Timestamp</th>\n",
       "      <th>Open</th>\n",
       "      <th>High</th>\n",
       "      <th>Low</th>\n",
       "      <th>Close</th>\n",
       "      <th>Volume_(BTC)</th>\n",
       "      <th>Volume_(Currency)</th>\n",
       "      <th>Weighted_Price</th>\n",
       "    </tr>\n",
       "    <tr>\n",
       "      <th>Timestamp</th>\n",
       "      <th></th>\n",
       "      <th></th>\n",
       "      <th></th>\n",
       "      <th></th>\n",
       "      <th></th>\n",
       "      <th></th>\n",
       "      <th></th>\n",
       "      <th></th>\n",
       "    </tr>\n",
       "  </thead>\n",
       "  <tbody>\n",
       "    <tr>\n",
       "      <th>2011-12-31 00:43:00</th>\n",
       "      <td>2011-12-31 00:43:00</td>\n",
       "      <td>4.247</td>\n",
       "      <td>4.247</td>\n",
       "      <td>4.247</td>\n",
       "      <td>4.247</td>\n",
       "      <td>0.4</td>\n",
       "      <td>1.6988</td>\n",
       "      <td>4.247</td>\n",
       "    </tr>\n",
       "    <tr>\n",
       "      <th>2011-12-31 00:44:00</th>\n",
       "      <td>2011-12-31 00:44:00</td>\n",
       "      <td>NaN</td>\n",
       "      <td>NaN</td>\n",
       "      <td>NaN</td>\n",
       "      <td>NaN</td>\n",
       "      <td>NaN</td>\n",
       "      <td>NaN</td>\n",
       "      <td>NaN</td>\n",
       "    </tr>\n",
       "    <tr>\n",
       "      <th>2011-12-31 00:45:00</th>\n",
       "      <td>2011-12-31 00:45:00</td>\n",
       "      <td>NaN</td>\n",
       "      <td>NaN</td>\n",
       "      <td>NaN</td>\n",
       "      <td>NaN</td>\n",
       "      <td>NaN</td>\n",
       "      <td>NaN</td>\n",
       "      <td>NaN</td>\n",
       "    </tr>\n",
       "    <tr>\n",
       "      <th>2011-12-31 00:46:00</th>\n",
       "      <td>2011-12-31 00:46:00</td>\n",
       "      <td>NaN</td>\n",
       "      <td>NaN</td>\n",
       "      <td>NaN</td>\n",
       "      <td>NaN</td>\n",
       "      <td>NaN</td>\n",
       "      <td>NaN</td>\n",
       "      <td>NaN</td>\n",
       "    </tr>\n",
       "    <tr>\n",
       "      <th>2011-12-31 00:47:00</th>\n",
       "      <td>2011-12-31 00:47:00</td>\n",
       "      <td>NaN</td>\n",
       "      <td>NaN</td>\n",
       "      <td>NaN</td>\n",
       "      <td>NaN</td>\n",
       "      <td>NaN</td>\n",
       "      <td>NaN</td>\n",
       "      <td>NaN</td>\n",
       "    </tr>\n",
       "    <tr>\n",
       "      <th>...</th>\n",
       "      <td>...</td>\n",
       "      <td>...</td>\n",
       "      <td>...</td>\n",
       "      <td>...</td>\n",
       "      <td>...</td>\n",
       "      <td>...</td>\n",
       "      <td>...</td>\n",
       "      <td>...</td>\n",
       "    </tr>\n",
       "    <tr>\n",
       "      <th>2012-01-06 23:18:00</th>\n",
       "      <td>2012-01-06 23:18:00</td>\n",
       "      <td>NaN</td>\n",
       "      <td>NaN</td>\n",
       "      <td>NaN</td>\n",
       "      <td>NaN</td>\n",
       "      <td>NaN</td>\n",
       "      <td>NaN</td>\n",
       "      <td>NaN</td>\n",
       "    </tr>\n",
       "    <tr>\n",
       "      <th>2012-01-06 23:19:00</th>\n",
       "      <td>2012-01-06 23:19:00</td>\n",
       "      <td>NaN</td>\n",
       "      <td>NaN</td>\n",
       "      <td>NaN</td>\n",
       "      <td>NaN</td>\n",
       "      <td>NaN</td>\n",
       "      <td>NaN</td>\n",
       "      <td>NaN</td>\n",
       "    </tr>\n",
       "    <tr>\n",
       "      <th>2012-01-06 23:20:00</th>\n",
       "      <td>2012-01-06 23:20:00</td>\n",
       "      <td>NaN</td>\n",
       "      <td>NaN</td>\n",
       "      <td>NaN</td>\n",
       "      <td>NaN</td>\n",
       "      <td>NaN</td>\n",
       "      <td>NaN</td>\n",
       "      <td>NaN</td>\n",
       "    </tr>\n",
       "    <tr>\n",
       "      <th>2012-01-06 23:21:00</th>\n",
       "      <td>2012-01-06 23:21:00</td>\n",
       "      <td>6.400</td>\n",
       "      <td>6.400</td>\n",
       "      <td>6.400</td>\n",
       "      <td>6.400</td>\n",
       "      <td>0.4</td>\n",
       "      <td>2.5600</td>\n",
       "      <td>6.400</td>\n",
       "    </tr>\n",
       "    <tr>\n",
       "      <th>2012-01-06 23:22:00</th>\n",
       "      <td>2012-01-06 23:22:00</td>\n",
       "      <td>NaN</td>\n",
       "      <td>NaN</td>\n",
       "      <td>NaN</td>\n",
       "      <td>NaN</td>\n",
       "      <td>NaN</td>\n",
       "      <td>NaN</td>\n",
       "      <td>NaN</td>\n",
       "    </tr>\n",
       "  </tbody>\n",
       "</table>\n",
       "<p>10000 rows × 8 columns</p>\n",
       "</div>"
      ],
      "text/plain": [
       "                              Timestamp   Open   High    Low  Close  \\\n",
       "Timestamp                                                             \n",
       "2011-12-31 00:43:00 2011-12-31 00:43:00  4.247  4.247  4.247  4.247   \n",
       "2011-12-31 00:44:00 2011-12-31 00:44:00    NaN    NaN    NaN    NaN   \n",
       "2011-12-31 00:45:00 2011-12-31 00:45:00    NaN    NaN    NaN    NaN   \n",
       "2011-12-31 00:46:00 2011-12-31 00:46:00    NaN    NaN    NaN    NaN   \n",
       "2011-12-31 00:47:00 2011-12-31 00:47:00    NaN    NaN    NaN    NaN   \n",
       "...                                 ...    ...    ...    ...    ...   \n",
       "2012-01-06 23:18:00 2012-01-06 23:18:00    NaN    NaN    NaN    NaN   \n",
       "2012-01-06 23:19:00 2012-01-06 23:19:00    NaN    NaN    NaN    NaN   \n",
       "2012-01-06 23:20:00 2012-01-06 23:20:00    NaN    NaN    NaN    NaN   \n",
       "2012-01-06 23:21:00 2012-01-06 23:21:00  6.400  6.400  6.400  6.400   \n",
       "2012-01-06 23:22:00 2012-01-06 23:22:00    NaN    NaN    NaN    NaN   \n",
       "\n",
       "                     Volume_(BTC)  Volume_(Currency)  Weighted_Price  \n",
       "Timestamp                                                             \n",
       "2011-12-31 00:43:00           0.4             1.6988           4.247  \n",
       "2011-12-31 00:44:00           NaN                NaN             NaN  \n",
       "2011-12-31 00:45:00           NaN                NaN             NaN  \n",
       "2011-12-31 00:46:00           NaN                NaN             NaN  \n",
       "2011-12-31 00:47:00           NaN                NaN             NaN  \n",
       "...                           ...                ...             ...  \n",
       "2012-01-06 23:18:00           NaN                NaN             NaN  \n",
       "2012-01-06 23:19:00           NaN                NaN             NaN  \n",
       "2012-01-06 23:20:00           NaN                NaN             NaN  \n",
       "2012-01-06 23:21:00           0.4             2.5600           6.400  \n",
       "2012-01-06 23:22:00           NaN                NaN             NaN  \n",
       "\n",
       "[10000 rows x 8 columns]"
      ]
     },
     "execution_count": 2,
     "metadata": {},
     "output_type": "execute_result"
    }
   ],
   "source": [
    "df = pd.read_csv(\"C:/Users/PC1/Downloads/btceUSD_1-min_data_2012-01-01_to_2017-05-31.csv/btceUSD_1-min_data_2012-01-01_to_2017-05-31.csv\")\n",
    "df.Timestamp = pd.to_datetime(df.Timestamp, unit='s')\n",
    "df.set_axis(df['Timestamp'], inplace=True)\n",
    "df.head(10000)"
   ]
  },
  {
   "cell_type": "code",
   "execution_count": 3,
   "id": "7bc433c0",
   "metadata": {},
   "outputs": [],
   "source": [
    "df.drop(columns=['Volume_(BTC)', 'Volume_(Currency)'], inplace=True)"
   ]
  },
  {
   "cell_type": "code",
   "execution_count": 4,
   "id": "039e9c92",
   "metadata": {},
   "outputs": [],
   "source": [
    "from scipy.interpolate import interp1d"
   ]
  },
  {
   "cell_type": "code",
   "execution_count": 5,
   "id": "77f6241f",
   "metadata": {},
   "outputs": [],
   "source": [
    "df['Weighted_Price'] = df['Weighted_Price'].interpolate()# we will fill the null rows"
   ]
  },
  {
   "cell_type": "code",
   "execution_count": 6,
   "id": "565d6305",
   "metadata": {},
   "outputs": [
    {
     "data": {
      "text/html": [
       "<div>\n",
       "<style scoped>\n",
       "    .dataframe tbody tr th:only-of-type {\n",
       "        vertical-align: middle;\n",
       "    }\n",
       "\n",
       "    .dataframe tbody tr th {\n",
       "        vertical-align: top;\n",
       "    }\n",
       "\n",
       "    .dataframe thead th {\n",
       "        text-align: right;\n",
       "    }\n",
       "</style>\n",
       "<table border=\"1\" class=\"dataframe\">\n",
       "  <thead>\n",
       "    <tr style=\"text-align: right;\">\n",
       "      <th></th>\n",
       "      <th>Timestamp</th>\n",
       "      <th>Open</th>\n",
       "      <th>High</th>\n",
       "      <th>Low</th>\n",
       "      <th>Close</th>\n",
       "      <th>Weighted_Price</th>\n",
       "    </tr>\n",
       "    <tr>\n",
       "      <th>Timestamp</th>\n",
       "      <th></th>\n",
       "      <th></th>\n",
       "      <th></th>\n",
       "      <th></th>\n",
       "      <th></th>\n",
       "      <th></th>\n",
       "    </tr>\n",
       "  </thead>\n",
       "  <tbody>\n",
       "    <tr>\n",
       "      <th>2011-12-31 00:43:00</th>\n",
       "      <td>2011-12-31 00:43:00</td>\n",
       "      <td>4.247</td>\n",
       "      <td>4.247</td>\n",
       "      <td>4.247</td>\n",
       "      <td>4.247</td>\n",
       "      <td>4.247000</td>\n",
       "    </tr>\n",
       "    <tr>\n",
       "      <th>2011-12-31 00:44:00</th>\n",
       "      <td>2011-12-31 00:44:00</td>\n",
       "      <td>NaN</td>\n",
       "      <td>NaN</td>\n",
       "      <td>NaN</td>\n",
       "      <td>NaN</td>\n",
       "      <td>4.245935</td>\n",
       "    </tr>\n",
       "    <tr>\n",
       "      <th>2011-12-31 00:45:00</th>\n",
       "      <td>2011-12-31 00:45:00</td>\n",
       "      <td>NaN</td>\n",
       "      <td>NaN</td>\n",
       "      <td>NaN</td>\n",
       "      <td>NaN</td>\n",
       "      <td>4.244870</td>\n",
       "    </tr>\n",
       "    <tr>\n",
       "      <th>2011-12-31 00:46:00</th>\n",
       "      <td>2011-12-31 00:46:00</td>\n",
       "      <td>NaN</td>\n",
       "      <td>NaN</td>\n",
       "      <td>NaN</td>\n",
       "      <td>NaN</td>\n",
       "      <td>4.243804</td>\n",
       "    </tr>\n",
       "    <tr>\n",
       "      <th>2011-12-31 00:47:00</th>\n",
       "      <td>2011-12-31 00:47:00</td>\n",
       "      <td>NaN</td>\n",
       "      <td>NaN</td>\n",
       "      <td>NaN</td>\n",
       "      <td>NaN</td>\n",
       "      <td>4.242739</td>\n",
       "    </tr>\n",
       "    <tr>\n",
       "      <th>...</th>\n",
       "      <td>...</td>\n",
       "      <td>...</td>\n",
       "      <td>...</td>\n",
       "      <td>...</td>\n",
       "      <td>...</td>\n",
       "      <td>...</td>\n",
       "    </tr>\n",
       "    <tr>\n",
       "      <th>2012-01-05 13:58:00</th>\n",
       "      <td>2012-01-05 13:58:00</td>\n",
       "      <td>NaN</td>\n",
       "      <td>NaN</td>\n",
       "      <td>NaN</td>\n",
       "      <td>NaN</td>\n",
       "      <td>6.232588</td>\n",
       "    </tr>\n",
       "    <tr>\n",
       "      <th>2012-01-05 13:59:00</th>\n",
       "      <td>2012-01-05 13:59:00</td>\n",
       "      <td>NaN</td>\n",
       "      <td>NaN</td>\n",
       "      <td>NaN</td>\n",
       "      <td>NaN</td>\n",
       "      <td>6.232853</td>\n",
       "    </tr>\n",
       "    <tr>\n",
       "      <th>2012-01-05 14:00:00</th>\n",
       "      <td>2012-01-05 14:00:00</td>\n",
       "      <td>NaN</td>\n",
       "      <td>NaN</td>\n",
       "      <td>NaN</td>\n",
       "      <td>NaN</td>\n",
       "      <td>6.233118</td>\n",
       "    </tr>\n",
       "    <tr>\n",
       "      <th>2012-01-05 14:01:00</th>\n",
       "      <td>2012-01-05 14:01:00</td>\n",
       "      <td>NaN</td>\n",
       "      <td>NaN</td>\n",
       "      <td>NaN</td>\n",
       "      <td>NaN</td>\n",
       "      <td>6.233382</td>\n",
       "    </tr>\n",
       "    <tr>\n",
       "      <th>2012-01-05 14:02:00</th>\n",
       "      <td>2012-01-05 14:02:00</td>\n",
       "      <td>NaN</td>\n",
       "      <td>NaN</td>\n",
       "      <td>NaN</td>\n",
       "      <td>NaN</td>\n",
       "      <td>6.233647</td>\n",
       "    </tr>\n",
       "  </tbody>\n",
       "</table>\n",
       "<p>8000 rows × 6 columns</p>\n",
       "</div>"
      ],
      "text/plain": [
       "                              Timestamp   Open   High    Low  Close  \\\n",
       "Timestamp                                                             \n",
       "2011-12-31 00:43:00 2011-12-31 00:43:00  4.247  4.247  4.247  4.247   \n",
       "2011-12-31 00:44:00 2011-12-31 00:44:00    NaN    NaN    NaN    NaN   \n",
       "2011-12-31 00:45:00 2011-12-31 00:45:00    NaN    NaN    NaN    NaN   \n",
       "2011-12-31 00:46:00 2011-12-31 00:46:00    NaN    NaN    NaN    NaN   \n",
       "2011-12-31 00:47:00 2011-12-31 00:47:00    NaN    NaN    NaN    NaN   \n",
       "...                                 ...    ...    ...    ...    ...   \n",
       "2012-01-05 13:58:00 2012-01-05 13:58:00    NaN    NaN    NaN    NaN   \n",
       "2012-01-05 13:59:00 2012-01-05 13:59:00    NaN    NaN    NaN    NaN   \n",
       "2012-01-05 14:00:00 2012-01-05 14:00:00    NaN    NaN    NaN    NaN   \n",
       "2012-01-05 14:01:00 2012-01-05 14:01:00    NaN    NaN    NaN    NaN   \n",
       "2012-01-05 14:02:00 2012-01-05 14:02:00    NaN    NaN    NaN    NaN   \n",
       "\n",
       "                     Weighted_Price  \n",
       "Timestamp                            \n",
       "2011-12-31 00:43:00        4.247000  \n",
       "2011-12-31 00:44:00        4.245935  \n",
       "2011-12-31 00:45:00        4.244870  \n",
       "2011-12-31 00:46:00        4.243804  \n",
       "2011-12-31 00:47:00        4.242739  \n",
       "...                             ...  \n",
       "2012-01-05 13:58:00        6.232588  \n",
       "2012-01-05 13:59:00        6.232853  \n",
       "2012-01-05 14:00:00        6.233118  \n",
       "2012-01-05 14:01:00        6.233382  \n",
       "2012-01-05 14:02:00        6.233647  \n",
       "\n",
       "[8000 rows x 6 columns]"
      ]
     },
     "execution_count": 6,
     "metadata": {},
     "output_type": "execute_result"
    }
   ],
   "source": [
    "df.head(8000)"
   ]
  },
  {
   "cell_type": "code",
   "execution_count": 7,
   "id": "2234d64d",
   "metadata": {},
   "outputs": [
    {
     "data": {
      "image/png": "[encoded data removed]",
      "text/plain": [
       "<Figure size 1440x576 with 1 Axes>"
      ]
     },
     "metadata": {
      "needs_background": "light"
     },
     "output_type": "display_data"
    }
   ],
   "source": [
    "plt.figure(figsize=(20,8))\n",
    "plt.plot((df['Timestamp'].values).reshape((-1)), (df['Weighted_Price'].values).reshape((-1)))\n",
    "plt.title('Time Series')\n",
    "plt.xlabel('Date')\n",
    "plt.ylabel('weight price')\n",
    "plt.show()"
   ]
  },
  {
   "cell_type": "code",
   "execution_count": 8,
   "id": "2a7c8705",
   "metadata": {},
   "outputs": [
    {
     "name": "stdout",
     "output_type": "stream",
     "text": [
      "2201275\n",
      "550319\n"
     ]
    }
   ],
   "source": [
    "w_data = df['Weighted_Price'].values\n",
    "w_data = w_data.reshape((-1,1))\n",
    "\n",
    "split_percent = 0.80\n",
    "split = int(split_percent*len(w_data))\n",
    "\n",
    "w_train = w_data[:split]\n",
    "w_test = w_data[split:]\n",
    "\n",
    "date_train = df['Timestamp'][:split]\n",
    "date_test = df['Timestamp'][split:]\n",
    "\n",
    "print(len(w_train))\n",
    "print(len(w_test))"
   ]
  },
  {
   "cell_type": "code",
   "execution_count": 9,
   "id": "ea80b339",
   "metadata": {},
   "outputs": [
    {
     "data": {
      "text/plain": [
       "array([[  4.247     ],\n",
       "       [  4.24593478],\n",
       "       [  4.24486957],\n",
       "       ...,\n",
       "       [421.99971431],\n",
       "       [421.95615987],\n",
       "       [421.96303529]])"
      ]
     },
     "execution_count": 9,
     "metadata": {},
     "output_type": "execute_result"
    }
   ],
   "source": [
    "w_train"
   ]
  },
  {
   "cell_type": "code",
   "execution_count": 10,
   "id": "aec6339c",
   "metadata": {},
   "outputs": [
    {
     "data": {
      "text/plain": [
       "array([[ 421.955     ],\n",
       "       [ 421.95684607],\n",
       "       [ 421.955     ],\n",
       "       ...,\n",
       "       [2134.5792536 ],\n",
       "       [2138.8519133 ],\n",
       "       [2139.4025938 ]])"
      ]
     },
     "execution_count": 10,
     "metadata": {},
     "output_type": "execute_result"
    }
   ],
   "source": [
    "w_test"
   ]
  },
  {
   "cell_type": "code",
   "execution_count": 11,
   "id": "ff136a93",
   "metadata": {},
   "outputs": [
    {
     "data": {
      "text/plain": [
       "Timestamp\n",
       "2011-12-31 00:43:00   2011-12-31 00:43:00\n",
       "2011-12-31 00:44:00   2011-12-31 00:44:00\n",
       "2011-12-31 00:45:00   2011-12-31 00:45:00\n",
       "2011-12-31 00:46:00   2011-12-31 00:46:00\n",
       "2011-12-31 00:47:00   2011-12-31 00:47:00\n",
       "                              ...        \n",
       "2016-03-28 07:44:00   2016-03-28 07:44:00\n",
       "2016-03-28 07:45:00   2016-03-28 07:45:00\n",
       "2016-03-28 07:46:00   2016-03-28 07:46:00\n",
       "2016-03-28 07:47:00   2016-03-28 07:47:00\n",
       "2016-03-28 07:48:00   2016-03-28 07:48:00\n",
       "Name: Timestamp, Length: 2201275, dtype: datetime64[ns]"
      ]
     },
     "execution_count": 11,
     "metadata": {},
     "output_type": "execute_result"
    }
   ],
   "source": [
    "date_train.head(1000000000000)"
   ]
  },
  {
   "cell_type": "code",
   "execution_count": 12,
   "id": "ede807cf",
   "metadata": {},
   "outputs": [
    {
     "data": {
      "text/plain": [
       "Timestamp\n",
       "2016-03-28 07:49:00   2016-03-28 07:49:00\n",
       "2016-03-28 07:50:00   2016-03-28 07:50:00\n",
       "2016-03-28 07:51:00   2016-03-28 07:51:00\n",
       "2016-03-28 07:52:00   2016-03-28 07:52:00\n",
       "2016-03-28 07:53:00   2016-03-28 07:53:00\n",
       "                              ...        \n",
       "2017-05-30 23:56:00   2017-05-30 23:56:00\n",
       "2017-05-30 23:57:00   2017-05-30 23:57:00\n",
       "2017-05-30 23:58:00   2017-05-30 23:58:00\n",
       "2017-05-30 23:59:00   2017-05-30 23:59:00\n",
       "2017-05-31 00:00:00   2017-05-31 00:00:00\n",
       "Name: Timestamp, Length: 550319, dtype: datetime64[ns]"
      ]
     },
     "execution_count": 12,
     "metadata": {},
     "output_type": "execute_result"
    }
   ],
   "source": [
    "date_test.head(1000000000000)"
   ]
  },
  {
   "cell_type": "code",
   "execution_count": 13,
   "id": "8e59f186",
   "metadata": {},
   "outputs": [],
   "source": [
    "look_back = 15\n",
    "\n",
    "train_generator = TimeseriesGenerator(w_train, w_train, length=look_back, batch_size=20)     \n",
    "test_generator = TimeseriesGenerator(w_test, w_test, length=look_back, batch_size=1)"
   ]
  },
  {
   "cell_type": "code",
   "execution_count": 14,
   "id": "0289d6fd",
   "metadata": {},
   "outputs": [],
   "source": [
    "from keras.models import Sequential\n",
    "from keras.layers import LSTM, Dense\n",
    "\n",
    "model = Sequential()\n",
    "model.add(LSTM(10,activation='relu',input_shape=(look_back,1)))\n",
    "model.add(Dense(1))\n",
    "model.compile(optimizer='adam', loss='mse')"
   ]
  },
  {
   "cell_type": "code",
   "execution_count": 15,
   "id": "91ccbe25",
   "metadata": {},
   "outputs": [
    {
     "name": "stderr",
     "output_type": "stream",
     "text": [
      "C:\\Users\\PC1\\anaconda3\\envs\\tensorflow\\lib\\site-packages\\keras\\engine\\training.py:1972: UserWarning: `Model.fit_generator` is deprecated and will be removed in a future version. Please use `Model.fit`, which supports generators.\n",
      "  warnings.warn('`Model.fit_generator` is deprecated and '\n"
     ]
    },
    {
     "name": "stdout",
     "output_type": "stream",
     "text": [
      "Epoch 1/25\n",
      "110063/110063 [==============================] - 453s 4ms/step - loss: 1257.1110\n",
      "Epoch 2/25\n",
      "110063/110063 [==============================] - 458s 4ms/step - loss: 3.6464\n",
      "Epoch 3/25\n",
      "110063/110063 [==============================] - 460s 4ms/step - loss: 1.9008\n",
      "Epoch 4/25\n",
      "110063/110063 [==============================] - 455s 4ms/step - loss: 1.4207\n",
      "Epoch 5/25\n",
      "110063/110063 [==============================] - 435s 4ms/step - loss: 1.2104\n",
      "Epoch 6/25\n",
      "110063/110063 [==============================] - 483s 4ms/step - loss: 0.9433\n",
      "Epoch 7/25\n",
      "110063/110063 [==============================] - 479s 4ms/step - loss: 0.9538\n",
      "Epoch 8/25\n",
      "110063/110063 [==============================] - 536s 5ms/step - loss: 3340.6472\n",
      "Epoch 9/25\n",
      "110063/110063 [==============================] - 554s 5ms/step - loss: 2.1623\n",
      "Epoch 10/25\n",
      "110063/110063 [==============================] - 442s 4ms/step - loss: 1.3785\n",
      "Epoch 11/25\n",
      "110063/110063 [==============================] - 426s 4ms/step - loss: 0.9651\n",
      "Epoch 12/25\n",
      "110063/110063 [==============================] - 423s 4ms/step - loss: 0.9273\n",
      "Epoch 13/25\n",
      "110063/110063 [==============================] - 424s 4ms/step - loss: 0.8850\n",
      "Epoch 14/25\n",
      "110063/110063 [==============================] - 1236s 11ms/step - loss: 0.8648\n",
      "Epoch 15/25\n",
      "110063/110063 [==============================] - 565s 5ms/step - loss: 0.8658\n",
      "Epoch 16/25\n",
      "110063/110063 [==============================] - 531s 5ms/step - loss: 0.8841\n",
      "Epoch 17/25\n",
      "110063/110063 [==============================] - 512s 5ms/step - loss: 0.8475\n",
      "Epoch 18/25\n",
      "110063/110063 [==============================] - 457s 4ms/step - loss: 0.8738\n",
      "Epoch 19/25\n",
      "110063/110063 [==============================] - 443s 4ms/step - loss: 1.8203\n",
      "Epoch 20/25\n",
      "110063/110063 [==============================] - 444s 4ms/step - loss: 13.5814\n",
      "Epoch 21/25\n",
      "110063/110063 [==============================] - 451s 4ms/step - loss: 93.6700\n",
      "Epoch 22/25\n",
      "110063/110063 [==============================] - 457s 4ms/step - loss: 5.8208\n",
      "Epoch 23/25\n",
      "110063/110063 [==============================] - 455s 4ms/step - loss: 26.3073\n",
      "Epoch 24/25\n",
      "110063/110063 [==============================] - 436s 4ms/step - loss: 30807.4746\n",
      "Epoch 25/25\n",
      "110063/110063 [==============================] - 441s 4ms/step - loss: 87.2364\n"
     ]
    },
    {
     "data": {
      "text/plain": [
       "<keras.callbacks.History at 0x1c11604aa30>"
      ]
     },
     "execution_count": 15,
     "metadata": {},
     "output_type": "execute_result"
    }
   ],
   "source": [
    "num_epochs = 25\n",
    "model.fit_generator(train_generator, epochs=num_epochs, verbose=1)"
   ]
  },
  {
   "cell_type": "code",
   "execution_count": 16,
   "id": "16021495",
   "metadata": {},
   "outputs": [
    {
     "name": "stderr",
     "output_type": "stream",
     "text": [
      "C:\\Users\\PC1\\anaconda3\\envs\\tensorflow\\lib\\site-packages\\keras\\engine\\training.py:2035: UserWarning: `Model.predict_generator` is deprecated and will be removed in a future version. Please use `Model.predict`, which supports generators.\n",
      "  warnings.warn('`Model.predict_generator` is deprecated and '\n"
     ]
    }
   ],
   "source": [
    "prediction = model.predict_generator(test_generator)"
   ]
  },
  {
   "cell_type": "code",
   "execution_count": 19,
   "id": "fba7e1a8",
   "metadata": {},
   "outputs": [
    {
     "data": {
      "image/png": "[encoded data removed]",
      "text/plain": [
       "<Figure size 432x288 with 1 Axes>"
      ]
     },
     "metadata": {
      "needs_background": "light"
     },
     "output_type": "display_data"
    },
    {
     "name": "stdout",
     "output_type": "stream",
     "text": [
      "[ 421.191    421.85443  422.52176 ... 2131.9392  2134.259   2138.769  ]\n"
     ]
    }
   ],
   "source": [
    "orig = plt.plot(date_train, w_train, color = 'blue', label = 'data')\n",
    "std = plt.plot(date_test, w_test, color = 'black', label = 'actual value truth')\n",
    "\n",
    "\n",
    "plt.legend(loc = 'best')\n",
    "plt.title('rolling mean and std')\n",
    "plt.show(block = False)\n",
    "w_train = w_train.reshape((-1))\n",
    "w_test = w_test.reshape((-1))\n",
    "prediction = prediction.reshape((-1))\n",
    "print(prediction)"
   ]
  },
  {
   "cell_type": "code",
   "execution_count": 20,
   "id": "ab8cbf45",
   "metadata": {},
   "outputs": [
    {
     "data": {
      "image/png": "[encoded data removed]",
      "text/plain": [
       "<Figure size 432x288 with 1 Axes>"
      ]
     },
     "metadata": {
      "needs_background": "light"
     },
     "output_type": "display_data"
    }
   ],
   "source": [
    "\n",
    "def predict(num_prediction, model):\n",
    "    prediction_list = w_data[-look_back:]\n",
    "    \n",
    "    for _ in range(num_prediction):\n",
    "        x = prediction_list[-look_back:]\n",
    "        x = x.reshape((1, look_back, 1))\n",
    "        out = model.predict(x)[0][0]\n",
    "        prediction_list = np.append(prediction_list, out)\n",
    "    prediction_list = prediction_list[look_back-1:]    \n",
    "    return prediction_list\n",
    "\n",
    "def predict_dates(num_prediction):\n",
    "    last_date =  df['Timestamp'].values[-1]\n",
    "    prediction_dates = pd.date_range(last_date, periods=num_prediction+1).tolist()\n",
    "    return prediction_dates\n",
    "\n",
    "mean = plt.plot(prediction,color = 'red', label = 'predictes')\n",
    "\n",
    "plt.legend(loc = 'best')\n",
    "plt.title('rolling mean and std')\n",
    "plt.show(block = False)\n",
    "num_prediction = 30\n",
    "forecast = predict(num_prediction, model)\n",
    "forecast_dates = predict_dates(num_prediction)\n"
   ]
  },
  {
   "cell_type": "code",
   "execution_count": null,
   "id": "37365458",
   "metadata": {},
   "outputs": [],
   "source": []
  }
 ],
 "metadata": {
  "kernelspec": {
   "display_name": "Python 3 (ipykernel)",
   "language": "python",
   "name": "python3"
  },
  "language_info": {
   "codemirror_mode": {
    "name": "ipython",
    "version": 3
   },
   "file_extension": ".py",
   "mimetype": "text/x-python",
   "name": "python",
   "nbconvert_exporter": "python",
   "pygments_lexer": "ipython3",
   "version": "3.7.13"
  }
 },
 "nbformat": 4,
 "nbformat_minor": 5
}
